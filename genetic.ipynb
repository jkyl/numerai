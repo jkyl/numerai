{
 "cells": [
  {
   "cell_type": "code",
   "execution_count": 1,
   "metadata": {},
   "outputs": [
    {
     "name": "stdout",
     "output_type": "stream",
     "text": [
      "Populating the interactive namespace from numpy and matplotlib\n"
     ]
    }
   ],
   "source": [
    "%pylab inline\n",
    "from sklearn.metrics import log_loss\n",
    "from sklearn.linear_model import LogisticRegression\n",
    "from sklearn.externals.joblib import delayed, Parallel\n",
    "from dask_ml.wrappers import ParallelPostFit\n",
    "from models import make_voting_ensemble\n",
    "from predict import preprocess_data\n",
    "from os.path import join as pj\n",
    "from tqdm import tqdm_notebook\n",
    "from copy import deepcopy\n",
    "import pandas as pd\n",
    "\n",
    "datadir = '/Users/jkyl/Desktop/'\n",
    "train_df = pd.read_csv(pj(datadir, 'numerai_training_data.csv'))\n",
    "tourn_df = pd.read_csv(pj(datadir, 'numerai_tournament_data.csv'))\n",
    "(X, y, eras), _ = preprocess_data(train_df, tourn_df, target='bernie')\n",
    "ueras = unique(eras)\n",
    "K = len(ueras)\n",
    "era_masks = {era: eras==era for era in ueras}"
   ]
  },
  {
   "cell_type": "code",
   "execution_count": 2,
   "metadata": {},
   "outputs": [
    {
     "data": {
      "application/vnd.jupyter.widget-view+json": {
       "model_id": "20d85d22fab54b46bc7da6bb950be424",
       "version_major": 2,
       "version_minor": 0
      },
      "text/html": [
       "<p>Failed to display Jupyter Widget of type <code>HBox</code>.</p>\n",
       "<p>\n",
       "  If you're reading this message in the Jupyter Notebook or JupyterLab Notebook, it may mean\n",
       "  that the widgets JavaScript is still loading. If this message persists, it\n",
       "  likely means that the widgets JavaScript library is either not installed or\n",
       "  not enabled. See the <a href=\"https://ipywidgets.readthedocs.io/en/stable/user_install.html\">Jupyter\n",
       "  Widgets Documentation</a> for setup instructions.\n",
       "</p>\n",
       "<p>\n",
       "  If you're reading this message in another frontend (for example, a static\n",
       "  rendering on GitHub or <a href=\"https://nbviewer.jupyter.org/\">NBViewer</a>),\n",
       "  it may mean that your frontend doesn't currently support widgets.\n",
       "</p>\n"
      ],
      "text/plain": [
       "HBox(children=(IntProgress(value=0, max=132), HTML(value='')))"
      ]
     },
     "metadata": {},
     "output_type": "display_data"
    },
    {
     "name": "stdout",
     "output_type": "stream",
     "text": [
      "\n"
     ]
    }
   ],
   "source": [
    "Cs = geomspace(1e-4, 1e2, 7)\n",
    "fits = empty((len(ueras), len(Cs)), dtype=object)\n",
    "model = LogisticRegression(tol=1e-4, max_iter=1000, warm_start=True)\n",
    "for i, train_era in enumerate(tqdm_notebook(ueras)):\n",
    "    train_mask = era_masks[train_era]\n",
    "    X_train, y_train = X[train_mask], y[train_mask]\n",
    "    for j, C in enumerate(Cs):\n",
    "        model.set_params(C=C)\n",
    "        model.fit(X_train, y_train)\n",
    "        fits[i, j] = deepcopy(model)"
   ]
  },
  {
   "cell_type": "code",
   "execution_count": null,
   "metadata": {
    "scrolled": false
   },
   "outputs": [],
   "source": [
    "random.seed(1017)\n",
    "min_loss = inf\n",
    "cv_losses = empty(K)\n",
    "probs = empty(len(X))\n",
    "for epoch in tqdm_notebook(range(5000)):\n",
    "    sample = random.randint(len(Cs), size=K)\n",
    "    learners = [fits[i, j] for i, j in enumerate(sample)]\n",
    "    ensemble = make_voting_ensemble(learners, -1)\n",
    "    probs[:] = ensemble.predict_proba(X)[:, 1]\n",
    "    for k, val_era in enumerate(ueras):\n",
    "        val_mask = era_masks[val_era]\n",
    "        train_probs = learners[k].predict_proba(X[val_mask])[:, 1]\n",
    "        cv_probs = ((K * probs[val_mask]) - train_probs) / (K - 1)\n",
    "        cv_loss = log_loss(y[val_mask], cv_probs)\n",
    "        cv_losses[k] = cv_loss\n",
    "    loss = mean(cv_losses)\n",
    "    if loss < min_loss:\n",
    "        min_loss = loss\n",
    "        min_sample = sample()\n",
    "        print(min_loss)"
   ]
  },
  {
   "cell_type": "code",
   "execution_count": null,
   "metadata": {},
   "outputs": [],
   "source": [
    "save('/Users/jkyl/Desktop/min_sample.npy', min_sample)"
   ]
  },
  {
   "cell_type": "code",
   "execution_count": 21,
   "metadata": {
    "scrolled": false
   },
   "outputs": [
    {
     "data": {
      "application/vnd.jupyter.widget-view+json": {
       "model_id": "6e44df6c4378434186a94f8f64266ffe",
       "version_major": 2,
       "version_minor": 0
      },
      "text/html": [
       "<p>Failed to display Jupyter Widget of type <code>HBox</code>.</p>\n",
       "<p>\n",
       "  If you're reading this message in the Jupyter Notebook or JupyterLab Notebook, it may mean\n",
       "  that the widgets JavaScript is still loading. If this message persists, it\n",
       "  likely means that the widgets JavaScript library is either not installed or\n",
       "  not enabled. See the <a href=\"https://ipywidgets.readthedocs.io/en/stable/user_install.html\">Jupyter\n",
       "  Widgets Documentation</a> for setup instructions.\n",
       "</p>\n",
       "<p>\n",
       "  If you're reading this message in another frontend (for example, a static\n",
       "  rendering on GitHub or <a href=\"https://nbviewer.jupyter.org/\">NBViewer</a>),\n",
       "  it may mean that your frontend doesn't currently support widgets.\n",
       "</p>\n"
      ],
      "text/plain": [
       "HBox(children=(IntProgress(value=0, max=3050), HTML(value='')))"
      ]
     },
     "metadata": {},
     "output_type": "display_data"
    },
    {
     "name": "stdout",
     "output_type": "stream",
     "text": [
      "0.692693768755076\n",
      "0.6926785749216223\n",
      "0.6926742910235727\n",
      "0.6926556561914843\n",
      "0.6926337744567315\n",
      "0.6926328122292481\n",
      "0.6926280079558632\n",
      "0.6926248047731385\n",
      "0.692617116237998\n",
      "0.6926088503522079\n",
      "0.6926026337939301\n",
      "0.6925971477546741\n",
      "0.6925961371005707\n",
      "0.6925955508238203\n",
      "0.6925954710432153\n",
      "0.6925932524401944\n",
      "0.6925895184015406\n",
      "0.6925882157180749\n",
      "0.69258741781885\n",
      "0.6925805805080152\n",
      "0.6925781039878689\n",
      "0.6925765705838719\n",
      "0.6925739405649783\n",
      "0.6925724236548088\n",
      "0.6925720543088248\n",
      "0.6925684143986856\n",
      "0.6925666292403341\n",
      "0.692565740599441\n",
      "0.6925630229485095\n",
      "0.6925621454621773\n",
      "0.692559052001246\n",
      "0.6925580898931781\n",
      "0.6925572309072023\n",
      "0.6925554214750864\n",
      "0.6925541537657918\n",
      "0.6925530536416027\n",
      "0.6925517799592822\n",
      "0.6925505824991145\n",
      "0.6925468193523376\n",
      "0.6925456779025422\n",
      "0.6925389911426678\n",
      "0.6925383422761494\n",
      "0.6925357134598418\n",
      "0.6925355497361719\n",
      "0.6925348704262059\n",
      "0.6925324125800328\n",
      "0.6925316403818447\n",
      "0.6925309057310609\n",
      "0.6925307306363062\n",
      "0.6925305457065454\n",
      "0.6925294325164258\n",
      "0.692528156333474\n",
      "0.6925237046880883\n",
      "0.6925236802538391\n",
      "0.6925233542921881\n",
      "0.6925219270920211\n",
      "0.6925168758356758\n",
      "0.6925167936002354\n",
      "0.6925148937037748\n",
      "0.6925138584353092\n",
      "0.6925122892235186\n",
      "0.6925107857853572\n",
      "0.6925075715936264\n",
      "0.6925069541507701\n",
      "0.6925067511162012\n",
      "0.6925045798377648\n",
      "0.6925030042954053\n",
      "0.6925029898527624\n",
      "0.6925005645561614\n",
      "0.6924999491365547\n",
      "0.6924992954535306\n",
      "0.6924979283676775\n",
      "0.6924976400720811\n",
      "0.6924952821691246\n",
      "0.692494958939408\n",
      "0.6924949434248568\n",
      "0.692493964872426\n",
      "0.6924920390197906\n",
      "0.692491993200802\n",
      "0.6924898168539628\n",
      "0.6924888382473394\n",
      "0.6924884505297308\n",
      "0.6924884488363982\n",
      "0.692486423593194\n",
      "0.6924861802472879\n",
      "0.6924846631762706\n",
      "0.6924830991032981\n",
      "0.6924828235931377\n",
      "0.6924808947777917\n",
      "0.6924793511129148\n",
      "0.6924780781785694\n",
      "0.6924751943730362\n",
      "0.6924731531805592\n",
      "0.6924724775586307\n",
      "0.6924722238078749\n",
      "0.6924720671615046\n",
      "0.6924713038649348\n",
      "0.6924676598002026\n",
      "0.6924664096977432\n",
      "0.692466380757418\n",
      "0.6924653078070085\n",
      "0.6924635539043377\n",
      "0.6924632933887459\n",
      "0.692463257434189\n",
      "0.6924626846471801\n",
      "0.6924620251975745\n",
      "0.6924619929109962\n",
      "0.6924607315133297\n",
      "0.6924605278061322\n",
      "0.6924602716490487\n",
      "0.6924602440071405\n",
      "0.6924580916731712\n",
      "0.6924555418829895\n",
      "0.6924553221329791\n",
      "0.6924545956956613\n",
      "0.6924543992717811\n",
      "0.6924540158326321\n",
      "0.6924537673772488\n",
      "0.692453541557689\n",
      "0.692453518409253\n",
      "0.6924534461908312\n",
      "0.6924533109960175\n",
      "0.6924501467282322\n",
      "0.6924488817082958\n",
      "0.6924486031812856\n",
      "0.69244853803247\n",
      "0.6924483845508637\n",
      "0.6924471517891391\n",
      "0.6924470177759424\n",
      "0.6924460417641015\n",
      "0.6924427029601831\n",
      "0.6924424259514128\n",
      "0.6924422255268788\n",
      "0.6924418092719995\n",
      "0.692441770763668\n",
      "0.692441136281863\n",
      "0.6924410061216273\n",
      "0.6924408249403099\n",
      "0.6924387301495203\n",
      "0.6924385830562936\n",
      "0.6924384537117351\n",
      "0.6924384391920535\n",
      "0.6924382213104483\n",
      "0.6924379238173033\n",
      "0.6924374431876182\n",
      "0.6924367975659114\n",
      "0.692436591857664\n",
      "0.692436388335864\n",
      "0.6924363195827183\n",
      "0.69243621504661\n",
      "0.692436094168662\n",
      "0.6924358858566283\n",
      "0.6924349087537947\n",
      "0.6924345195047862\n",
      "0.6924342643330916\n",
      "0.6924342428298157\n",
      "0.6924341319802196\n",
      "0.6924340959630935\n",
      "0.6924340510741462\n",
      "0.6924340335795458\n",
      "0.6924339695140254\n",
      "0.6924339325860416\n",
      "0.6924338454474042\n",
      "0.6924336171264318\n",
      "0.6924331683698757\n",
      "0.6924330795349879\n",
      "0.6924328047421585\n",
      "0.6924318428736016\n",
      "0.6924317700203811\n",
      "0.6924316240499563\n",
      "0.6924312584128979\n",
      "0.6924312304106253\n",
      "0.6924310217800901\n",
      "0.6924310116162273\n",
      "0.6924310082150238\n",
      "0.6924309709148762\n",
      "0.6924306620572618\n",
      "0.692430640562033\n",
      "0.6924305696611104\n",
      "0.6924298687674668\n",
      "0.6924297452276037\n",
      "0.6924296573657767\n",
      "0.6924294715653209\n",
      "0.6924293903695969\n",
      "0.6924291199596434\n",
      "0.6924288673438536\n",
      "0.6924286836132899\n",
      "0.692428677063253\n",
      "0.6924283892709685\n",
      "0.6924283289545728\n",
      "0.6924282002436903\n",
      "0.6924281499061667\n",
      "0.6924281287480072\n",
      "0.6924280947095788\n",
      "0.6924280008319333\n",
      "0.6924278944786535\n",
      "0.6924278247104068\n",
      "0.6924276368253743\n",
      "0.6924276203290904\n",
      "0.6924276024527406\n",
      "0.6924275206673457\n",
      "0.6924273312904403\n",
      "0.692427260701837\n",
      "0.6924272475605726\n",
      "0.6924271777258071\n",
      "0.6924270045033638\n",
      "0.6924269205041588\n",
      "0.6924268910140193\n",
      "0.6924266856694911\n",
      "0.6924263339654114\n",
      "0.6924263297077343\n",
      "0.6924258413140355\n",
      "0.692425695356336\n",
      "0.6924255555165655\n",
      "0.6924255370021378\n",
      "0.6924254901399004\n",
      "0.6924254835703713\n",
      "0.6924253199114305\n",
      "0.6924251823801059\n",
      "0.6924250531923469\n",
      "0.6924250506118024\n",
      "0.6924249875965923\n",
      "0.6924249500346991\n",
      "0.6924248995321268\n",
      "0.6924247907622624\n",
      "0.6924246163371116\n"
     ]
    }
   ],
   "source": [
    "random.seed(420)\n",
    "#sys.setrecursionlimit(1000)\n",
    "#memory = {}\n",
    "def evaluate(sample):\n",
    "    if tuple(sample) in memory:\n",
    "        return memory[tuple(sample)]\n",
    "    learners = [fits[i, j] for i, j in enumerate(sample)]\n",
    "    ensemble = make_voting_ensemble(learners, -1)\n",
    "    probs = ensemble.predict_proba(X)[:, 1]\n",
    "    cv_losses = empty(K)\n",
    "    for k, val_era in enumerate(ueras):\n",
    "        val_mask = era_masks[val_era]\n",
    "        train_probs = learners[k].predict_proba(X[val_mask])[:, 1]\n",
    "        cv_probs = ((K * probs[val_mask]) - train_probs) / (K - 1)\n",
    "        cv_loss = log_loss(y[val_mask], cv_probs)\n",
    "        cv_losses[k] = cv_loss\n",
    "    loss = mean(cv_losses)\n",
    "    memory[tuple(sample)] = loss\n",
    "    return loss\n",
    "\n",
    "def reproduce(parents, num_children, mutate_prob):\n",
    "    children = array([parents[0] for _ in range(num_children)])\n",
    "    for ind in where(parents[0] != parents[1])[0]:\n",
    "        children[:, ind] = random.choice(parents[:, ind], size=num_children)\n",
    "    mutate_mask = random.binomial(1, mutate_prob, size=children.shape).astype(bool)\n",
    "    if mutate_mask.sum():\n",
    "        children[mutate_mask] = random.randint(len(Cs), size=mutate_mask.sum())\n",
    "    if len(set(map(tuple, children)).union(set(map(tuple, parents)))) < num_children + 2:\n",
    "        return reproduce(parents, num_children, mutate_prob)\n",
    "    return children\n",
    "    \n",
    "def genetic_search(population_size=10, num_children=2, generations=100, mutate_prob=1e-3):\n",
    "    population = random.randint(len(Cs), size=(population_size, K)).tolist()\n",
    "    min_loss = inf\n",
    "    for generation in tqdm_notebook(range(generations)):\n",
    "        loss = array([evaluate(i) for i in population])\n",
    "        if loss.min() < min_loss:\n",
    "            min_loss = loss.min()\n",
    "            print(min_loss)\n",
    "        fitness = loss.max() - loss\n",
    "        fitness /= fitness.max()\n",
    "        fitness /= fitness.sum()\n",
    "        parent_inds = random.choice(population_size, size=2, p=fitness, replace=False)\n",
    "        parents = array(population)[parent_inds]\n",
    "        while all(parents[0]==parents[1]):\n",
    "            parent_inds = random.choice(population_size, size=2, p=fitness, replace=False)\n",
    "            parents = array(population)[parent_inds]\n",
    "        children = reproduce(parents, num_children, mutate_prob)\n",
    "        population += children.tolist()\n",
    "        population.pop(argmin(fitness))\n",
    "        population_size += num_children - 1\n",
    "    return population[:-num_children], loss\n",
    "\n",
    "population, losses = genetic_search(\n",
    "    population_size=10, \n",
    "    num_children=1, \n",
    "    generations=3050, \n",
    "    mutate_prob=.01\n",
    ")"
   ]
  },
  {
   "cell_type": "code",
   "execution_count": 22,
   "metadata": {},
   "outputs": [
    {
     "data": {
      "text/plain": [
       "<matplotlib.image.AxesImage at 0x120dd8cc0>"
      ]
     },
     "execution_count": 22,
     "metadata": {},
     "output_type": "execute_result"
    },
    {
     "data": {
      "image/png": "[encoded data removed]",
      "text/plain": [
       "<Figure size 432x648 with 1 Axes>"
      ]
     },
     "metadata": {},
     "output_type": "display_data"
    }
   ],
   "source": [
    "figure(figsize=(6, 9))\n",
    "imshow(eye(7)[(population[argmin(losses)])], cmap='gray_r')"
   ]
  },
  {
   "cell_type": "code",
   "execution_count": 19,
   "metadata": {},
   "outputs": [
    {
     "data": {
      "text/plain": [
       "<matplotlib.image.AxesImage at 0x11c962438>"
      ]
     },
     "execution_count": 19,
     "metadata": {},
     "output_type": "execute_result"
    },
    {
     "data": {
      "image/png": "[encoded data removed]",
      "text/plain": [
       "<Figure size 432x648 with 1 Axes>"
      ]
     },
     "metadata": {},
     "output_type": "display_data"
    }
   ],
   "source": [
    "figure(figsize=(6, 9))\n",
    "imshow(eye(7)[(population[argmin(losses)])], cmap='gray_r')"
   ]
  },
  {
   "cell_type": "code",
   "execution_count": null,
   "metadata": {},
   "outputs": [],
   "source": []
  }
 ],
 "metadata": {
  "kernelspec": {
   "display_name": "Python 3",
   "language": "python",
   "name": "python3"
  },
  "language_info": {
   "codemirror_mode": {
    "name": "ipython",
    "version": 3
   },
   "file_extension": ".py",
   "mimetype": "text/x-python",
   "name": "python",
   "nbconvert_exporter": "python",
   "pygments_lexer": "ipython3",
   "version": "3.5.2"
  }
 },
 "nbformat": 4,
 "nbformat_minor": 2
}
