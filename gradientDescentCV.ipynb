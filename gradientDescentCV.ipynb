{
 "cells": [
  {
   "cell_type": "code",
   "execution_count": null,
   "metadata": {},
   "outputs": [],
   "source": [
    "from sklearn.linear_model import LogisticRegression\n",
    "from sklearn.preprocessing import StandardScaler\n",
    "from sklearn.pipeline import Pipeline\n",
    "from sklearn.externals import joblib\n",
    "from sklearn.metrics import log_loss\n",
    "\n",
    "from models import make_voting_ensemble\n",
    "from predict import preprocess_data\n",
    "from os.path import join as pj\n",
    "from tqdm import tqdm_notebook\n",
    "from copy import deepcopy\n",
    "import pandas as pd\n",
    "\n",
    "target = 'charles'\n",
    "datadir = '/Volumes/4TB/numerai/119/'\n",
    "train_df = pd.read_csv(pj(datadir, 'numerai_training_data.csv'))\n",
    "tourn_df = pd.read_csv(pj(datadir, 'numerai_tournament_data.csv'))\n",
    "(X, y, eras), X_test = preprocess_data(train_df, tourn_df, target=target)\n",
    "ueras = unique(eras)\n",
    "K = len(ueras)\n",
    "era_masks = {era: eras==era for era in ueras}"
   ]
  },
  {
   "cell_type": "code",
   "execution_count": null,
   "metadata": {},
   "outputs": [],
   "source": [
    "Cs = geomspace(1e-3, 1e3, 2)\n",
    "parallel = joblib.Parallel(n_jobs=-1, verbose=0)\n",
    "\n",
    "def logistic_whitened(C=1):\n",
    "    return Pipeline([\n",
    "        ('scaler', StandardScaler()),\n",
    "        ('logistic', LogisticRegression(\n",
    "            C=C, tol=1e-4, max_iter=1000, warm_start=True))])\n",
    "\n",
    "def train_and_predict_logits(train_era):\n",
    "    model = logistic_whitened()\n",
    "    train_mask = era_masks[train_era]\n",
    "    X_train, y_train = X[train_mask], y[train_mask]\n",
    "    logits = empty((len(X), len(Cs)))\n",
    "    models = []\n",
    "    for j, C in enumerate(Cs):\n",
    "        model.set_params(logistic__C=C)\n",
    "        model.fit(X_train, y_train)\n",
    "        models.append(deepcopy(model))\n",
    "        logits_j = model.decision_function(X)\n",
    "        logits_j[train_mask] = 0\n",
    "        logits[:, j] = logits_j\n",
    "    return logits, models\n",
    "\n",
    "logits, models = tuple(map(array, list(zip(*parallel(\n",
    "    joblib.delayed(train_and_predict_logits)(train_era)\n",
    "        for train_era in tqdm_notebook(ueras))))))"
   ]
  },
  {
   "cell_type": "code",
   "execution_count": null,
   "metadata": {
    "scrolled": false
   },
   "outputs": [],
   "source": [
    "import tensorflow as tf\n",
    "from scipy.special import logit as logit_fn\n",
    "tf.reset_default_graph()\n",
    "\n",
    "l_init = tf.placeholder(shape=logits.shape, dtype=tf.float32)\n",
    "l = tf.Variable(l_init)\n",
    "\n",
    "t_init = tf.placeholder(shape=y.shape, dtype=tf.bool)\n",
    "t = tf.Variable(t_init)\n",
    "\n",
    "w_init = tf.placeholder(shape=(K, len(Cs)), dtype=tf.float32)\n",
    "w = tf.Variable(tf.expand_dims(w_init, 1))\n",
    "\n",
    "weighted_logits = l * w\n",
    "mean_over_eras = tf.reduce_sum(weighted_logits, axis=0) / (K - 1)\n",
    "mean_over_Cs = tf.reduce_mean(mean_over_eras, axis=1)\n",
    "output = tf.clip_by_value(mean_over_Cs, logit_fn(.3), logit_fn(.7))\n",
    "\n",
    "era_inds = [where(era_masks[era])[0] for era in ueras]\n",
    "era_xents = tf.convert_to_tensor([tf.reduce_mean(tf.nn.sigmoid_cross_entropy_with_logits(\n",
    "    labels=tf.cast(tf.gather(t, i), tf.float32), logits=tf.gather(output, i))) for i in era_inds])\n",
    "\n",
    "mean_xent, var_xent = tf.nn.moments(era_xents, axes=[0])\n",
    "var_weight = tf.placeholder(shape=[], dtype=tf.float32)\n",
    "loss = mean_xent + tf.Variable(var_weight) * var_xent\n",
    "\n",
    "learning_rate = tf.placeholder(shape=[], dtype=tf.float32)\n",
    "opt = tf.train.AdamOptimizer(tf.Variable(learning_rate)).minimize(loss, var_list=[w])"
   ]
  },
  {
   "cell_type": "code",
   "execution_count": null,
   "metadata": {},
   "outputs": [],
   "source": [
    "def verify_numpy(w_sol):\n",
    "    weighted_logits = logits * w_sol\n",
    "    mean_over_eras = np.sum(weighted_logits, axis=0) / (K - 1)\n",
    "    mean_over_Cs = np.mean(mean_over_eras, axis=1)\n",
    "    output = np.clip(mean_over_Cs, logit_fn(.3), logit_fn(.7))\n",
    "    return log_loss(y, 1/(1+exp(-output)))\n",
    "\n",
    "\n",
    "if not locked:\n",
    "    locked = True\n",
    "    with tf.Session() as sess:\n",
    "        sess.run(tf.global_variables_initializer(), feed_dict={\n",
    "            l_init: logits, \n",
    "            t_init: y, \n",
    "            w_init: ones((K, len(Cs))),\n",
    "            learning_rate: 0.3,\n",
    "            var_weight: 1,\n",
    "        })\n",
    "        ws, losses, mus, sigs = [None], [], [], []\n",
    "        for iteration in tqdm_notebook(range(10000)):\n",
    "            l, w_hat, _, mu, sig = sess.run([loss, w, opt, mean_xent, var_xent])\n",
    "            ws.append(w_hat)\n",
    "            losses.append(l)\n",
    "            mus.append(mu)\n",
    "            sigs.append(sig)\n",
    "            w_sol = ws[argmin(losses)]\n",
    "            if not iteration % 10:\n",
    "                amin = argmin(losses)\n",
    "                print('{:.6f} +/- {:.6f}'.format(mus[amin], sigs[amin]))"
   ]
  },
  {
   "cell_type": "code",
   "execution_count": null,
   "metadata": {},
   "outputs": [],
   "source": [
    "plot(losses)"
   ]
  },
  {
   "cell_type": "code",
   "execution_count": null,
   "metadata": {},
   "outputs": [],
   "source": [
    "figure(figsize=(7, 14))\n",
    "imshow(w_show[:, 0], aspect='auto', cmap='RdBu_r')\n",
    "colorbar()"
   ]
  },
  {
   "cell_type": "code",
   "execution_count": null,
   "metadata": {},
   "outputs": [],
   "source": [
    "verify_numpy(w_sol)"
   ]
  },
  {
   "cell_type": "code",
   "execution_count": null,
   "metadata": {},
   "outputs": [],
   "source": [
    "logits_test = empty((K, len(X_test), len(Cs)))\n",
    "for i in tqdm_notebook(range(K)):\n",
    "    for j in range(len(Cs)):\n",
    "        logits_test[i, :, j] = models[i, j].decision_function(X_test)"
   ]
  },
  {
   "cell_type": "code",
   "execution_count": null,
   "metadata": {},
   "outputs": [],
   "source": [
    "logits_test_weighted = logits_test * w_sol\n",
    "mean_over_eras = np.sum(logits_test_weighted, axis=0) / (K - 1)\n",
    "mean_over_Cs = np.mean(mean_over_eras, axis=1)\n",
    "test_output = 1 / (1 + exp(-np.clip(mean_over_Cs, logit_fn(.3), logit_fn(.7))))"
   ]
  },
  {
   "cell_type": "code",
   "execution_count": null,
   "metadata": {},
   "outputs": [],
   "source": [
    "from predict import postprocess_results\n",
    "results = postprocess_results(tourn_df['id'], test_output, target)\n",
    "savetxt('/Volumes/4TB/numerai/119/predictions_{}_voting_gradientDescent.csv'.format(target), \n",
    "        results, delimiter=',', fmt='%s')"
   ]
  },
  {
   "cell_type": "code",
   "execution_count": null,
   "metadata": {},
   "outputs": [],
   "source": []
  }
 ],
 "metadata": {
  "kernelspec": {
   "display_name": "Python 3",
   "language": "python",
   "name": "python3"
  },
  "language_info": {
   "codemirror_mode": {
    "name": "ipython",
    "version": 3
   },
   "file_extension": ".py",
   "mimetype": "text/x-python",
   "name": "python",
   "nbconvert_exporter": "python",
   "pygments_lexer": "ipython3",
   "version": "3.6.5"
  }
 },
 "nbformat": 4,
 "nbformat_minor": 2
}
